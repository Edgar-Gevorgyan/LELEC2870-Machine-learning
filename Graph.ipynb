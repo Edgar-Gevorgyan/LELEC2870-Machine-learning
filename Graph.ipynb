{
 "cells": [
  {
   "cell_type": "code",
   "execution_count": null,
   "metadata": {},
   "outputs": [],
   "source": [
    "import matplotlib.pyplot as plt\n",
    "import pandas as pd\n",
    "\n",
    "plt.rcParams.update({'font.size': 14})"
   ]
  },
  {
   "cell_type": "code",
   "execution_count": null,
   "metadata": {},
   "outputs": [],
   "source": [
    "samplings = ['AllKNN', 'Without sampling', 'BorderlineSMOTE', 'ClusterCentroids', 'InstanceHardnessThreshold',\n",
    "             'RandomOverSampler', 'RandomUnderSampler', 'SMOTE', 'SMOTETomek', 'TomekLinks']"
   ]
  },
  {
   "cell_type": "code",
   "execution_count": null,
   "metadata": {},
   "outputs": [],
   "source": [
    "def show_perf(CV_perf, Test_perf, Model_name):\n",
    "    plt.figure(figsize=(20,10))\n",
    "    plt.xticks(range(len(samplings)), samplings, rotation=25)\n",
    "    width = 0.35\n",
    "    plt.bar(samplings, CV_perf, -width, align='edge', label='Score on test set')\n",
    "    plt.bar(samplings, Test_perf, +width, align='edge', label='Score of 5-fold cross validation')\n",
    "    plt.title('Performance of ' + Model_name + ' on several samplings')\n",
    "    plt.xlabel('Samplings')\n",
    "    plt.ylabel('Regression score')\n",
    "    plt.legend()\n",
    "    plt.savefig('./Images/'+Model_name+'.png')\n",
    "    plt.show()"
   ]
  },
  {
   "cell_type": "code",
   "execution_count": null,
   "metadata": {},
   "outputs": [],
   "source": [
    "def success(n):\n",
    "    if n < 500 :\n",
    "        return 0\n",
    "    elif n < 1400:\n",
    "        return 1\n",
    "    elif n < 5000:\n",
    "        return 2\n",
    "    elif n < 10000:\n",
    "        return 3\n",
    "    else:\n",
    "        return 4"
   ]
  },
  {
   "cell_type": "code",
   "execution_count": null,
   "metadata": {},
   "outputs": [],
   "source": [
    "def show_dist_target(Y, sampling_name=None):\n",
    "    plt.figure(figsize=(20,10))\n",
    "    width = 0.35\n",
    "    Success_name = ['flop', 'mild success', 'success', 'great success', 'viral hit']\n",
    "    \n",
    "    length = len(Y['shares']) \n",
    "    \n",
    "    Success = Y['shares'].apply(success)\n",
    "    Success_val = [(sum(Success == i)*100.0)/(length) for i in range(len(Success_name))]\n",
    "    \n",
    "    \n",
    "    plt.bar(Success_name, Success_val, width)\n",
    "    \n",
    "    if sampling_name==None:\n",
    "        plt.title('Distribution of the output (number of share) per category')\n",
    "    else:\n",
    "        plt.title('Distribution of the output (number of share) per category for the sampling: ' + sampling_name)\n",
    "    plt.xlabel('Category')\n",
    "    plt.ylabel('% of the data-set')\n",
    "    \n",
    "    if sampling_name==None:\n",
    "         plt.savefig('./Images/CompleteDataSet.png')\n",
    "    else:\n",
    "        plt.savefig('./Images/'+sampling_name+'.png')\n",
    "    plt.show()"
   ]
  },
  {
   "cell_type": "markdown",
   "metadata": {},
   "source": [
    "## Data-set distribution "
   ]
  },
  {
   "cell_type": "code",
   "execution_count": null,
   "metadata": {},
   "outputs": [],
   "source": [
    "# Complete data-set\n",
    "Y = pd.read_csv('Dataset/Y1.csv', header=None, names=['shares'])\n",
    "show_dist_target(Y)"
   ]
  },
  {
   "cell_type": "code",
   "execution_count": null,
   "metadata": {},
   "outputs": [],
   "source": [
    "Y_train = pd.read_csv('basic/Y_train.csv').drop(['Unnamed: 0'], axis=1)\n",
    "Y_test = pd.read_csv('basic/Y_test.csv').drop(['Unnamed: 0'], axis=1)\n",
    "\n",
    "\n",
    "\n",
    "plt.figure(figsize=(20,10))\n",
    "width = 0.35\n",
    "Success_name = ['flop', 'mild success', 'success', 'great success', 'viral hit']\n",
    "\n",
    "Success_train = Y_train['shares'].apply(success)\n",
    "Success_val_train = [sum(Success_train == i) for i in range(len(Success_name))]\n",
    "Success_test = Y_test['shares'].apply(success)\n",
    "Success_val_test = [sum(Success_test == i) for i in range(len(Success_name))]\n",
    "\n",
    "\n",
    "plt.bar(Success_name, Success_val_train, -width, align='edge', label='train set')\n",
    "plt.bar(Success_name, Success_val_test, +width, align='edge', label='test set')\n",
    "\n",
    "plt.title('Distribution of the output (number of share) per category')\n",
    "plt.xlabel('Category')\n",
    "plt.ylabel('% of the data-set')\n",
    "plt.legend()\n",
    "plt.savefig('./Images/train-test.png')\n",
    "plt.show()"
   ]
  },
  {
   "cell_type": "code",
   "execution_count": null,
   "metadata": {
    "scrolled": false
   },
   "outputs": [],
   "source": [
    "for sampling in samplings:\n",
    "    print('---- ' + sampling + ' ------')\n",
    "    if sampling == 'Without sampling':\n",
    "        Y = pd.read_csv('basic/Y_train.csv').drop(['Unnamed: 0'], axis=1)\n",
    "    else:\n",
    "        Y = pd.read_csv(sampling+ '/Y_train.csv').drop(['Unnamed: 0'], axis=1)\n",
    "    show_dist_target(Y, sampling)"
   ]
  },
  {
   "cell_type": "code",
   "execution_count": null,
   "metadata": {},
   "outputs": [],
   "source": []
  },
  {
   "cell_type": "markdown",
   "metadata": {},
   "source": [
    "## Linear Regression"
   ]
  },
  {
   "cell_type": "code",
   "execution_count": null,
   "metadata": {},
   "outputs": [],
   "source": [
    "\"\"\"\n",
    "pipeline = Pipeline(\n",
    "    [\n",
    "        ('preprocessing', StandardScaler()),\n",
    "        ('feature selection', SelectKBest(score_func=mutual_info_regression, k=40)),\n",
    "        ('estimator', LinearRegression())\n",
    "    ]\n",
    ")\n",
    "\"\"\""
   ]
  },
  {
   "cell_type": "code",
   "execution_count": null,
   "metadata": {},
   "outputs": [],
   "source": [
    "CV_perf_LR = [0.4880169403905369, 0.48492968510199247, 0.6533104066145896, 0.6530550484404509, 0.7187993491999543, \n",
    "           0.658082785784371, 0.6504562497994655, 0.6691310632864133, 0.6804072004539296, 0.49330143496802614]\n",
    "Test_perf_LR = [0.5155796529144044, 0.4940072047443733, 0.538793911676854, 0.5008129443584516, 0.5165378140425584,\n",
    "             0.5304890443406005, 0.5246102643155394, 0.534839322359256, 0.5311279963668307, 0.5031647957041181]"
   ]
  },
  {
   "cell_type": "code",
   "execution_count": null,
   "metadata": {},
   "outputs": [],
   "source": [
    "show_perf(CV_perf_LR, Test_perf_LR, 'linear regression')"
   ]
  },
  {
   "cell_type": "markdown",
   "metadata": {},
   "source": [
    "## MLP"
   ]
  },
  {
   "cell_type": "code",
   "execution_count": null,
   "metadata": {},
   "outputs": [],
   "source": [
    "\"\"\"\n",
    "pipeline = Pipeline(\n",
    "    [\n",
    "        ('preprocessing', StandardScaler()),\n",
    "        ('feature selection', SelectKBest(score_func=mutual_info_regression, k=30)),\n",
    "        ('estimator', MLPRegressor(hidden_layer_sizes=(150,)*5, batch_size=750, beta_1=0.8, beta_2=0.97, learning_rate_init=0.003,\n",
    "                                   solver='adam', activation='relu', max_iter=600, early_stopping=False, n_iter_no_change=10, random_state=0\n",
    "                                ))\n",
    "    ]\n",
    ")\n",
    "\"\"\""
   ]
  },
  {
   "cell_type": "code",
   "execution_count": null,
   "metadata": {},
   "outputs": [],
   "source": [
    "CV_perf_MLP = [0.4902466455047446, 0.48579459517296153, 0.8054812468094257, 0.6432150465254424, 0.7196429119087664,\n",
    "           0.8134941816521867, 0.6248408181785977, 0.7969758941720201, 0.7946863967488894, 0.5061612615344608]\n",
    "Test_perf_MLP = [0.5143501877856447, 0.4962003009587694, 0.495264326310834, 0.5203321175306763, 0.5451969988372145,\n",
    "             0.49207853234144333, 0.5204589275770385, 0.49922013359156847, 0.5016882434413497, 0.4925733966375351]"
   ]
  },
  {
   "cell_type": "code",
   "execution_count": null,
   "metadata": {},
   "outputs": [],
   "source": [
    "show_perf(CV_perf_MLP, Test_perf_MLP, 'multi-layer perceptron')"
   ]
  },
  {
   "cell_type": "markdown",
   "metadata": {},
   "source": [
    "## RF"
   ]
  },
  {
   "cell_type": "code",
   "execution_count": null,
   "metadata": {},
   "outputs": [],
   "source": [
    "\"\"\"\n",
    "pipeline = Pipeline(\n",
    "    [\n",
    "        ('preprocessing', StandardScaler()),\n",
    "        ('feature selection', SelectKBest(score_func=mutual_info_regression, k=40)),\n",
    "        ('estimator', RandomForestRegressor(n_estimators=150, max_depth=40, min_samples_split=3, min_samples_leaf=5,\n",
    "                                            max_features='auto', criterion='mse', max_leaf_nodes=2000,\n",
    "                                            bootstrap=True, random_state=0, n_jobs=-1))\n",
    "    ]\n",
    ")\n",
    "\"\"\""
   ]
  },
  {
   "cell_type": "code",
   "execution_count": null,
   "metadata": {},
   "outputs": [],
   "source": [
    "CV_perf_RF = [0.5250473027652203, 0.5168888850424185, 0.8200856195984103, 0.6823816271324036, 0.7688810698461181, \n",
    "              0.8709665612186921, 0.6688123658617028, 0.7868518445164858, 0.7928538959326156, 0.5258432048966505]\n",
    "Test_perf_RF = [0.5413671330151946, 0.5243610006833856, 0.5423577392253137, 0.516925797480817, 0.5378438917668098,\n",
    "                0.5314811740360106, 0.5373189662464495, 0.5475131766571258, 0.5499265790369373, 0.5303224463933037]"
   ]
  },
  {
   "cell_type": "code",
   "execution_count": null,
   "metadata": {},
   "outputs": [],
   "source": [
    "show_perf(CV_perf_RF, Test_perf_RF, 'random forest')"
   ]
  },
  {
   "cell_type": "markdown",
   "metadata": {},
   "source": [
    "## KNN"
   ]
  },
  {
   "cell_type": "code",
   "execution_count": null,
   "metadata": {},
   "outputs": [],
   "source": [
    "CV_perf_KNN = [0.5017821823917569, 0.4938657495069214, 0.8239534528604011, 0.6376305147798647, 0.7418337758185969,\n",
    "               0.8075933976587736, 0.6386960683121373, 0.7956872401437171, 0.804380678486952, 0.5114588551726339]\n",
    "Test_perf_KNN = [0.5247154993288771, 0.5092110940502437, 0.5291600036948589, 0.5170716903914068, 0.5417600101472573,\n",
    "                0.5114032656986974, 0.5267730306195235, 0.5322773558018203, 0.5315964641813694, 0.5241025647661642]"
   ]
  },
  {
   "cell_type": "code",
   "execution_count": null,
   "metadata": {},
   "outputs": [],
   "source": [
    "show_perf(CV_perf_RF, Test_perf_RF, 'K-nearest neighbors')"
   ]
  },
  {
   "cell_type": "markdown",
   "metadata": {},
   "source": [
    "## Voting"
   ]
  }
 ],
 "metadata": {
  "kernelspec": {
   "display_name": "Python 3",
   "language": "python",
   "name": "python3"
  },
  "language_info": {
   "codemirror_mode": {
    "name": "ipython",
    "version": 3
   },
   "file_extension": ".py",
   "mimetype": "text/x-python",
   "name": "python",
   "nbconvert_exporter": "python",
   "pygments_lexer": "ipython3",
   "version": "3.8.5"
  }
 },
 "nbformat": 4,
 "nbformat_minor": 4
}
